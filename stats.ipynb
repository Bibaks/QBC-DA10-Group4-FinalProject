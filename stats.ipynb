{
 "cells": [
  {
   "cell_type": "code",
   "execution_count": 1,
   "id": "3dd07f21",
   "metadata": {},
   "outputs": [],
   "source": [
    "import pandas as pd\n",
    "from scipy import stats\n",
    "import plotly"
   ]
  },
  {
   "cell_type": "code",
   "execution_count": 2,
   "id": "2b9096a7",
   "metadata": {},
   "outputs": [],
   "source": [
    "df = pd.read_csv('stats.csv')"
   ]
  },
  {
   "cell_type": "code",
   "execution_count": 3,
   "id": "9ebbd53f",
   "metadata": {},
   "outputs": [],
   "source": [
    "df['Has_discount'] = df['Discount'].apply(lambda x: True if x > 0  else False)"
   ]
  },
  {
   "cell_type": "code",
   "execution_count": 22,
   "id": "2faa232e",
   "metadata": {},
   "outputs": [
    {
     "data": {
      "text/plain": [
       "Quantity\n",
       "1     25\n",
       "2     25\n",
       "3     25\n",
       "4     26\n",
       "5     25\n",
       "6     27\n",
       "7     22\n",
       "8     22\n",
       "9     22\n",
       "10    18\n",
       "11    14\n",
       "12    17\n",
       "13    11\n",
       "14    12\n",
       "Name: Discount, dtype: int64"
      ]
     },
     "execution_count": 22,
     "metadata": {},
     "output_type": "execute_result"
    }
   ],
   "source": [
    "df.groupby('Quantity')['Discount'].agg('count')"
   ]
  },
  {
   "cell_type": "code",
   "execution_count": 5,
   "id": "39b99b42",
   "metadata": {},
   "outputs": [],
   "source": [
    "with_discount = df[df['Has_discount'] == True]['Quantity']\n",
    "without_discount = df[df['Has_discount'] == False]['Quantity']"
   ]
  },
  {
   "cell_type": "code",
   "execution_count": 18,
   "id": "b12616bf",
   "metadata": {},
   "outputs": [
    {
     "data": {
      "application/vnd.plotly.v1+json": {
       "config": {
        "plotlyServerURL": "https://plot.ly"
       },
       "data": [
        {
         "bingroup": "x",
         "hovertemplate": "Has_discount=False<br>Quantity=%{x}<br>count=%{y}<extra></extra>",
         "legendgroup": "False",
         "marker": {
          "color": "#636efa",
          "pattern": {
           "shape": ""
          }
         },
         "name": "False",
         "orientation": "v",
         "showlegend": true,
         "type": "histogram",
         "x": {
          "bdata": "AQIDBAUGBwgJCgsMDQ4=",
          "dtype": "i1"
         },
         "xaxis": "x",
         "yaxis": "y"
        },
        {
         "customdata": [
          [
           0,
           false
          ],
          [
           0,
           false
          ],
          [
           0,
           false
          ],
          [
           0,
           false
          ],
          [
           0,
           false
          ],
          [
           0,
           false
          ],
          [
           0,
           false
          ],
          [
           0,
           false
          ],
          [
           0,
           false
          ],
          [
           0,
           false
          ],
          [
           0,
           false
          ],
          [
           0,
           false
          ],
          [
           0,
           false
          ],
          [
           0,
           false
          ]
         ],
         "hovertemplate": "Has_discount=%{customdata[1]}<br>Quantity=%{x}<br>Discount=%{customdata[0]}<extra></extra>",
         "legendgroup": "False",
         "marker": {
          "color": "#636efa"
         },
         "name": "False",
         "notched": true,
         "showlegend": false,
         "type": "box",
         "x": {
          "bdata": "AQIDBAUGBwgJCgsMDQ4=",
          "dtype": "i1"
         },
         "xaxis": "x2",
         "yaxis": "y2"
        },
        {
         "bingroup": "x",
         "hovertemplate": "Has_discount=True<br>Quantity=%{x}<br>count=%{y}<extra></extra>",
         "legendgroup": "True",
         "marker": {
          "color": "#EF553B",
          "pattern": {
           "shape": ""
          }
         },
         "name": "True",
         "orientation": "v",
         "showlegend": true,
         "type": "histogram",
         "x": {
          "bdata": "AQIDBAUGBwgJCgsMAQIDBAUGBwgJCgsBAgMEBQYHCAkKCwwNDgECAwQFBgcICQoLDA0BAgMEBQYHCAkKCwwNDgECAwQFBgcICQoLDA0OAQIDBAUGBwoBAgMEBQYHCAkMAQIDBAUGBwgJCgwOAQIDBAUGBwgJCgsOAQIDBAUGBwkKAQIDBAUGBwgJCgsMAQIDBAUGBwgJDAECAwQFBgcICQoLDA0OAQIDBAUGBwgJAQIDBAUGBwgJDA0BAgMEBQYHCAkKCwwNDgECAwQFBgcICQoLDA0OAQMEBQYBAgQGCQECAwQFBgcICQoLDA4BAgMEBQYIAgMFBggMAQIDBAUGBwgJCgsMDQ4BAgMEBQYHCAkKDQ4EBg==",
          "dtype": "i1"
         },
         "xaxis": "x",
         "yaxis": "y"
        },
        {
         "customdata": [
          [
           0.0020000000949949,
           true
          ],
          [
           0.0020000000949949,
           true
          ],
          [
           0.0020000000949949,
           true
          ],
          [
           0.0020000000949949,
           true
          ],
          [
           0.0020000000949949,
           true
          ],
          [
           0.0020000000949949,
           true
          ],
          [
           0.0020000000949949,
           true
          ],
          [
           0.0020000000949949,
           true
          ],
          [
           0.0020000000949949,
           true
          ],
          [
           0.0020000000949949,
           true
          ],
          [
           0.0020000000949949,
           true
          ],
          [
           0.0020000000949949,
           true
          ],
          [
           0.0700000002980232,
           true
          ],
          [
           0.0700000002980232,
           true
          ],
          [
           0.0700000002980232,
           true
          ],
          [
           0.0700000002980232,
           true
          ],
          [
           0.0700000002980232,
           true
          ],
          [
           0.0700000002980232,
           true
          ],
          [
           0.0700000002980232,
           true
          ],
          [
           0.0700000002980232,
           true
          ],
          [
           0.0700000002980232,
           true
          ],
          [
           0.0700000002980232,
           true
          ],
          [
           0.0700000002980232,
           true
          ],
          [
           0.1000000014901161,
           true
          ],
          [
           0.1000000014901161,
           true
          ],
          [
           0.1000000014901161,
           true
          ],
          [
           0.1000000014901161,
           true
          ],
          [
           0.1000000014901161,
           true
          ],
          [
           0.1000000014901161,
           true
          ],
          [
           0.1000000014901161,
           true
          ],
          [
           0.1000000014901161,
           true
          ],
          [
           0.1000000014901161,
           true
          ],
          [
           0.1000000014901161,
           true
          ],
          [
           0.1000000014901161,
           true
          ],
          [
           0.1000000014901161,
           true
          ],
          [
           0.1000000014901161,
           true
          ],
          [
           0.1000000014901161,
           true
          ],
          [
           0.1500000059604644,
           true
          ],
          [
           0.1500000059604644,
           true
          ],
          [
           0.1500000059604644,
           true
          ],
          [
           0.1500000059604644,
           true
          ],
          [
           0.1500000059604644,
           true
          ],
          [
           0.1500000059604644,
           true
          ],
          [
           0.1500000059604644,
           true
          ],
          [
           0.1500000059604644,
           true
          ],
          [
           0.1500000059604644,
           true
          ],
          [
           0.1500000059604644,
           true
          ],
          [
           0.1500000059604644,
           true
          ],
          [
           0.1500000059604644,
           true
          ],
          [
           0.1500000059604644,
           true
          ],
          [
           0.1700000017881393,
           true
          ],
          [
           0.1700000017881393,
           true
          ],
          [
           0.1700000017881393,
           true
          ],
          [
           0.1700000017881393,
           true
          ],
          [
           0.1700000017881393,
           true
          ],
          [
           0.1700000017881393,
           true
          ],
          [
           0.1700000017881393,
           true
          ],
          [
           0.1700000017881393,
           true
          ],
          [
           0.1700000017881393,
           true
          ],
          [
           0.1700000017881393,
           true
          ],
          [
           0.1700000017881393,
           true
          ],
          [
           0.1700000017881393,
           true
          ],
          [
           0.1700000017881393,
           true
          ],
          [
           0.1700000017881393,
           true
          ],
          [
           0.2000000029802322,
           true
          ],
          [
           0.2000000029802322,
           true
          ],
          [
           0.2000000029802322,
           true
          ],
          [
           0.2000000029802322,
           true
          ],
          [
           0.2000000029802322,
           true
          ],
          [
           0.2000000029802322,
           true
          ],
          [
           0.2000000029802322,
           true
          ],
          [
           0.2000000029802322,
           true
          ],
          [
           0.2000000029802322,
           true
          ],
          [
           0.2000000029802322,
           true
          ],
          [
           0.2000000029802322,
           true
          ],
          [
           0.2000000029802322,
           true
          ],
          [
           0.2000000029802322,
           true
          ],
          [
           0.2000000029802322,
           true
          ],
          [
           0.202000007033348,
           true
          ],
          [
           0.202000007033348,
           true
          ],
          [
           0.202000007033348,
           true
          ],
          [
           0.202000007033348,
           true
          ],
          [
           0.202000007033348,
           true
          ],
          [
           0.202000007033348,
           true
          ],
          [
           0.202000007033348,
           true
          ],
          [
           0.202000007033348,
           true
          ],
          [
           0.25,
           true
          ],
          [
           0.25,
           true
          ],
          [
           0.25,
           true
          ],
          [
           0.25,
           true
          ],
          [
           0.25,
           true
          ],
          [
           0.25,
           true
          ],
          [
           0.25,
           true
          ],
          [
           0.25,
           true
          ],
          [
           0.25,
           true
          ],
          [
           0.25,
           true
          ],
          [
           0.270000010728836,
           true
          ],
          [
           0.270000010728836,
           true
          ],
          [
           0.270000010728836,
           true
          ],
          [
           0.270000010728836,
           true
          ],
          [
           0.270000010728836,
           true
          ],
          [
           0.270000010728836,
           true
          ],
          [
           0.270000010728836,
           true
          ],
          [
           0.270000010728836,
           true
          ],
          [
           0.270000010728836,
           true
          ],
          [
           0.270000010728836,
           true
          ],
          [
           0.270000010728836,
           true
          ],
          [
           0.270000010728836,
           true
          ],
          [
           0.3000000119209289,
           true
          ],
          [
           0.3000000119209289,
           true
          ],
          [
           0.3000000119209289,
           true
          ],
          [
           0.3000000119209289,
           true
          ],
          [
           0.3000000119209289,
           true
          ],
          [
           0.3000000119209289,
           true
          ],
          [
           0.3000000119209289,
           true
          ],
          [
           0.3000000119209289,
           true
          ],
          [
           0.3000000119209289,
           true
          ],
          [
           0.3000000119209289,
           true
          ],
          [
           0.3000000119209289,
           true
          ],
          [
           0.3000000119209289,
           true
          ],
          [
           0.3199999928474426,
           true
          ],
          [
           0.3199999928474426,
           true
          ],
          [
           0.3199999928474426,
           true
          ],
          [
           0.3199999928474426,
           true
          ],
          [
           0.3199999928474426,
           true
          ],
          [
           0.3199999928474426,
           true
          ],
          [
           0.3199999928474426,
           true
          ],
          [
           0.3199999928474426,
           true
          ],
          [
           0.3199999928474426,
           true
          ],
          [
           0.3499999940395355,
           true
          ],
          [
           0.3499999940395355,
           true
          ],
          [
           0.3499999940395355,
           true
          ],
          [
           0.3499999940395355,
           true
          ],
          [
           0.3499999940395355,
           true
          ],
          [
           0.3499999940395355,
           true
          ],
          [
           0.3499999940395355,
           true
          ],
          [
           0.3499999940395355,
           true
          ],
          [
           0.3499999940395355,
           true
          ],
          [
           0.3499999940395355,
           true
          ],
          [
           0.3499999940395355,
           true
          ],
          [
           0.3499999940395355,
           true
          ],
          [
           0.3700000047683716,
           true
          ],
          [
           0.3700000047683716,
           true
          ],
          [
           0.3700000047683716,
           true
          ],
          [
           0.3700000047683716,
           true
          ],
          [
           0.3700000047683716,
           true
          ],
          [
           0.3700000047683716,
           true
          ],
          [
           0.3700000047683716,
           true
          ],
          [
           0.3700000047683716,
           true
          ],
          [
           0.3700000047683716,
           true
          ],
          [
           0.3700000047683716,
           true
          ],
          [
           0.4000000059604645,
           true
          ],
          [
           0.4000000059604645,
           true
          ],
          [
           0.4000000059604645,
           true
          ],
          [
           0.4000000059604645,
           true
          ],
          [
           0.4000000059604645,
           true
          ],
          [
           0.4000000059604645,
           true
          ],
          [
           0.4000000059604645,
           true
          ],
          [
           0.4000000059604645,
           true
          ],
          [
           0.4000000059604645,
           true
          ],
          [
           0.4000000059604645,
           true
          ],
          [
           0.4000000059604645,
           true
          ],
          [
           0.4000000059604645,
           true
          ],
          [
           0.4000000059604645,
           true
          ],
          [
           0.4000000059604645,
           true
          ],
          [
           0.4020000100135803,
           true
          ],
          [
           0.4020000100135803,
           true
          ],
          [
           0.4020000100135803,
           true
          ],
          [
           0.4020000100135803,
           true
          ],
          [
           0.4020000100135803,
           true
          ],
          [
           0.4020000100135803,
           true
          ],
          [
           0.4020000100135803,
           true
          ],
          [
           0.4020000100135803,
           true
          ],
          [
           0.4020000100135803,
           true
          ],
          [
           0.449999988079071,
           true
          ],
          [
           0.449999988079071,
           true
          ],
          [
           0.449999988079071,
           true
          ],
          [
           0.449999988079071,
           true
          ],
          [
           0.449999988079071,
           true
          ],
          [
           0.449999988079071,
           true
          ],
          [
           0.449999988079071,
           true
          ],
          [
           0.449999988079071,
           true
          ],
          [
           0.449999988079071,
           true
          ],
          [
           0.449999988079071,
           true
          ],
          [
           0.449999988079071,
           true
          ],
          [
           0.4699999988079071,
           true
          ],
          [
           0.4699999988079071,
           true
          ],
          [
           0.4699999988079071,
           true
          ],
          [
           0.4699999988079071,
           true
          ],
          [
           0.4699999988079071,
           true
          ],
          [
           0.4699999988079071,
           true
          ],
          [
           0.4699999988079071,
           true
          ],
          [
           0.4699999988079071,
           true
          ],
          [
           0.4699999988079071,
           true
          ],
          [
           0.4699999988079071,
           true
          ],
          [
           0.4699999988079071,
           true
          ],
          [
           0.4699999988079071,
           true
          ],
          [
           0.4699999988079071,
           true
          ],
          [
           0.4699999988079071,
           true
          ],
          [
           0.5,
           true
          ],
          [
           0.5,
           true
          ],
          [
           0.5,
           true
          ],
          [
           0.5,
           true
          ],
          [
           0.5,
           true
          ],
          [
           0.5,
           true
          ],
          [
           0.5,
           true
          ],
          [
           0.5,
           true
          ],
          [
           0.5,
           true
          ],
          [
           0.5,
           true
          ],
          [
           0.5,
           true
          ],
          [
           0.5,
           true
          ],
          [
           0.5,
           true
          ],
          [
           0.5,
           true
          ],
          [
           0.550000011920929,
           true
          ],
          [
           0.550000011920929,
           true
          ],
          [
           0.550000011920929,
           true
          ],
          [
           0.550000011920929,
           true
          ],
          [
           0.550000011920929,
           true
          ],
          [
           0.5699999928474426,
           true
          ],
          [
           0.5699999928474426,
           true
          ],
          [
           0.5699999928474426,
           true
          ],
          [
           0.5699999928474426,
           true
          ],
          [
           0.5699999928474426,
           true
          ],
          [
           0.6000000238418579,
           true
          ],
          [
           0.6000000238418579,
           true
          ],
          [
           0.6000000238418579,
           true
          ],
          [
           0.6000000238418579,
           true
          ],
          [
           0.6000000238418579,
           true
          ],
          [
           0.6000000238418579,
           true
          ],
          [
           0.6000000238418579,
           true
          ],
          [
           0.6000000238418579,
           true
          ],
          [
           0.6000000238418579,
           true
          ],
          [
           0.6000000238418579,
           true
          ],
          [
           0.6000000238418579,
           true
          ],
          [
           0.6000000238418579,
           true
          ],
          [
           0.6000000238418579,
           true
          ],
          [
           0.6019999980926514,
           true
          ],
          [
           0.6019999980926514,
           true
          ],
          [
           0.6019999980926514,
           true
          ],
          [
           0.6019999980926514,
           true
          ],
          [
           0.6019999980926514,
           true
          ],
          [
           0.6019999980926514,
           true
          ],
          [
           0.6019999980926514,
           true
          ],
          [
           0.6499999761581421,
           true
          ],
          [
           0.6499999761581421,
           true
          ],
          [
           0.6499999761581421,
           true
          ],
          [
           0.6499999761581421,
           true
          ],
          [
           0.6499999761581421,
           true
          ],
          [
           0.6499999761581421,
           true
          ],
          [
           0.699999988079071,
           true
          ],
          [
           0.699999988079071,
           true
          ],
          [
           0.699999988079071,
           true
          ],
          [
           0.699999988079071,
           true
          ],
          [
           0.699999988079071,
           true
          ],
          [
           0.699999988079071,
           true
          ],
          [
           0.699999988079071,
           true
          ],
          [
           0.699999988079071,
           true
          ],
          [
           0.699999988079071,
           true
          ],
          [
           0.699999988079071,
           true
          ],
          [
           0.699999988079071,
           true
          ],
          [
           0.699999988079071,
           true
          ],
          [
           0.699999988079071,
           true
          ],
          [
           0.699999988079071,
           true
          ],
          [
           0.800000011920929,
           true
          ],
          [
           0.800000011920929,
           true
          ],
          [
           0.800000011920929,
           true
          ],
          [
           0.800000011920929,
           true
          ],
          [
           0.800000011920929,
           true
          ],
          [
           0.800000011920929,
           true
          ],
          [
           0.800000011920929,
           true
          ],
          [
           0.800000011920929,
           true
          ],
          [
           0.800000011920929,
           true
          ],
          [
           0.800000011920929,
           true
          ],
          [
           0.800000011920929,
           true
          ],
          [
           0.800000011920929,
           true
          ],
          [
           0.8500000238418579,
           true
          ],
          [
           0.8500000238418579,
           true
          ]
         ],
         "hovertemplate": "Has_discount=%{customdata[1]}<br>Quantity=%{x}<br>Discount=%{customdata[0]}<extra></extra>",
         "legendgroup": "True",
         "marker": {
          "color": "#EF553B"
         },
         "name": "True",
         "notched": true,
         "showlegend": false,
         "type": "box",
         "x": {
          "bdata": "AQIDBAUGBwgJCgsMAQIDBAUGBwgJCgsBAgMEBQYHCAkKCwwNDgECAwQFBgcICQoLDA0BAgMEBQYHCAkKCwwNDgECAwQFBgcICQoLDA0OAQIDBAUGBwoBAgMEBQYHCAkMAQIDBAUGBwgJCgwOAQIDBAUGBwgJCgsOAQIDBAUGBwkKAQIDBAUGBwgJCgsMAQIDBAUGBwgJDAECAwQFBgcICQoLDA0OAQIDBAUGBwgJAQIDBAUGBwgJDA0BAgMEBQYHCAkKCwwNDgECAwQFBgcICQoLDA0OAQMEBQYBAgQGCQECAwQFBgcICQoLDA4BAgMEBQYIAgMFBggMAQIDBAUGBwgJCgsMDQ4BAgMEBQYHCAkKDQ4EBg==",
          "dtype": "i1"
         },
         "xaxis": "x2",
         "yaxis": "y2"
        }
       ],
       "layout": {
        "barmode": "relative",
        "legend": {
         "title": {
          "text": "Has_discount"
         },
         "tracegroupgap": 0
        },
        "margin": {
         "t": 60
        },
        "template": {
         "data": {
          "bar": [
           {
            "error_x": {
             "color": "#2a3f5f"
            },
            "error_y": {
             "color": "#2a3f5f"
            },
            "marker": {
             "line": {
              "color": "#E5ECF6",
              "width": 0.5
             },
             "pattern": {
              "fillmode": "overlay",
              "size": 10,
              "solidity": 0.2
             }
            },
            "type": "bar"
           }
          ],
          "barpolar": [
           {
            "marker": {
             "line": {
              "color": "#E5ECF6",
              "width": 0.5
             },
             "pattern": {
              "fillmode": "overlay",
              "size": 10,
              "solidity": 0.2
             }
            },
            "type": "barpolar"
           }
          ],
          "carpet": [
           {
            "aaxis": {
             "endlinecolor": "#2a3f5f",
             "gridcolor": "white",
             "linecolor": "white",
             "minorgridcolor": "white",
             "startlinecolor": "#2a3f5f"
            },
            "baxis": {
             "endlinecolor": "#2a3f5f",
             "gridcolor": "white",
             "linecolor": "white",
             "minorgridcolor": "white",
             "startlinecolor": "#2a3f5f"
            },
            "type": "carpet"
           }
          ],
          "choropleth": [
           {
            "colorbar": {
             "outlinewidth": 0,
             "ticks": ""
            },
            "type": "choropleth"
           }
          ],
          "contour": [
           {
            "colorbar": {
             "outlinewidth": 0,
             "ticks": ""
            },
            "colorscale": [
             [
              0,
              "#0d0887"
             ],
             [
              0.1111111111111111,
              "#46039f"
             ],
             [
              0.2222222222222222,
              "#7201a8"
             ],
             [
              0.3333333333333333,
              "#9c179e"
             ],
             [
              0.4444444444444444,
              "#bd3786"
             ],
             [
              0.5555555555555556,
              "#d8576b"
             ],
             [
              0.6666666666666666,
              "#ed7953"
             ],
             [
              0.7777777777777778,
              "#fb9f3a"
             ],
             [
              0.8888888888888888,
              "#fdca26"
             ],
             [
              1,
              "#f0f921"
             ]
            ],
            "type": "contour"
           }
          ],
          "contourcarpet": [
           {
            "colorbar": {
             "outlinewidth": 0,
             "ticks": ""
            },
            "type": "contourcarpet"
           }
          ],
          "heatmap": [
           {
            "colorbar": {
             "outlinewidth": 0,
             "ticks": ""
            },
            "colorscale": [
             [
              0,
              "#0d0887"
             ],
             [
              0.1111111111111111,
              "#46039f"
             ],
             [
              0.2222222222222222,
              "#7201a8"
             ],
             [
              0.3333333333333333,
              "#9c179e"
             ],
             [
              0.4444444444444444,
              "#bd3786"
             ],
             [
              0.5555555555555556,
              "#d8576b"
             ],
             [
              0.6666666666666666,
              "#ed7953"
             ],
             [
              0.7777777777777778,
              "#fb9f3a"
             ],
             [
              0.8888888888888888,
              "#fdca26"
             ],
             [
              1,
              "#f0f921"
             ]
            ],
            "type": "heatmap"
           }
          ],
          "histogram": [
           {
            "marker": {
             "pattern": {
              "fillmode": "overlay",
              "size": 10,
              "solidity": 0.2
             }
            },
            "type": "histogram"
           }
          ],
          "histogram2d": [
           {
            "colorbar": {
             "outlinewidth": 0,
             "ticks": ""
            },
            "colorscale": [
             [
              0,
              "#0d0887"
             ],
             [
              0.1111111111111111,
              "#46039f"
             ],
             [
              0.2222222222222222,
              "#7201a8"
             ],
             [
              0.3333333333333333,
              "#9c179e"
             ],
             [
              0.4444444444444444,
              "#bd3786"
             ],
             [
              0.5555555555555556,
              "#d8576b"
             ],
             [
              0.6666666666666666,
              "#ed7953"
             ],
             [
              0.7777777777777778,
              "#fb9f3a"
             ],
             [
              0.8888888888888888,
              "#fdca26"
             ],
             [
              1,
              "#f0f921"
             ]
            ],
            "type": "histogram2d"
           }
          ],
          "histogram2dcontour": [
           {
            "colorbar": {
             "outlinewidth": 0,
             "ticks": ""
            },
            "colorscale": [
             [
              0,
              "#0d0887"
             ],
             [
              0.1111111111111111,
              "#46039f"
             ],
             [
              0.2222222222222222,
              "#7201a8"
             ],
             [
              0.3333333333333333,
              "#9c179e"
             ],
             [
              0.4444444444444444,
              "#bd3786"
             ],
             [
              0.5555555555555556,
              "#d8576b"
             ],
             [
              0.6666666666666666,
              "#ed7953"
             ],
             [
              0.7777777777777778,
              "#fb9f3a"
             ],
             [
              0.8888888888888888,
              "#fdca26"
             ],
             [
              1,
              "#f0f921"
             ]
            ],
            "type": "histogram2dcontour"
           }
          ],
          "mesh3d": [
           {
            "colorbar": {
             "outlinewidth": 0,
             "ticks": ""
            },
            "type": "mesh3d"
           }
          ],
          "parcoords": [
           {
            "line": {
             "colorbar": {
              "outlinewidth": 0,
              "ticks": ""
             }
            },
            "type": "parcoords"
           }
          ],
          "pie": [
           {
            "automargin": true,
            "type": "pie"
           }
          ],
          "scatter": [
           {
            "fillpattern": {
             "fillmode": "overlay",
             "size": 10,
             "solidity": 0.2
            },
            "type": "scatter"
           }
          ],
          "scatter3d": [
           {
            "line": {
             "colorbar": {
              "outlinewidth": 0,
              "ticks": ""
             }
            },
            "marker": {
             "colorbar": {
              "outlinewidth": 0,
              "ticks": ""
             }
            },
            "type": "scatter3d"
           }
          ],
          "scattercarpet": [
           {
            "marker": {
             "colorbar": {
              "outlinewidth": 0,
              "ticks": ""
             }
            },
            "type": "scattercarpet"
           }
          ],
          "scattergeo": [
           {
            "marker": {
             "colorbar": {
              "outlinewidth": 0,
              "ticks": ""
             }
            },
            "type": "scattergeo"
           }
          ],
          "scattergl": [
           {
            "marker": {
             "colorbar": {
              "outlinewidth": 0,
              "ticks": ""
             }
            },
            "type": "scattergl"
           }
          ],
          "scattermap": [
           {
            "marker": {
             "colorbar": {
              "outlinewidth": 0,
              "ticks": ""
             }
            },
            "type": "scattermap"
           }
          ],
          "scattermapbox": [
           {
            "marker": {
             "colorbar": {
              "outlinewidth": 0,
              "ticks": ""
             }
            },
            "type": "scattermapbox"
           }
          ],
          "scatterpolar": [
           {
            "marker": {
             "colorbar": {
              "outlinewidth": 0,
              "ticks": ""
             }
            },
            "type": "scatterpolar"
           }
          ],
          "scatterpolargl": [
           {
            "marker": {
             "colorbar": {
              "outlinewidth": 0,
              "ticks": ""
             }
            },
            "type": "scatterpolargl"
           }
          ],
          "scatterternary": [
           {
            "marker": {
             "colorbar": {
              "outlinewidth": 0,
              "ticks": ""
             }
            },
            "type": "scatterternary"
           }
          ],
          "surface": [
           {
            "colorbar": {
             "outlinewidth": 0,
             "ticks": ""
            },
            "colorscale": [
             [
              0,
              "#0d0887"
             ],
             [
              0.1111111111111111,
              "#46039f"
             ],
             [
              0.2222222222222222,
              "#7201a8"
             ],
             [
              0.3333333333333333,
              "#9c179e"
             ],
             [
              0.4444444444444444,
              "#bd3786"
             ],
             [
              0.5555555555555556,
              "#d8576b"
             ],
             [
              0.6666666666666666,
              "#ed7953"
             ],
             [
              0.7777777777777778,
              "#fb9f3a"
             ],
             [
              0.8888888888888888,
              "#fdca26"
             ],
             [
              1,
              "#f0f921"
             ]
            ],
            "type": "surface"
           }
          ],
          "table": [
           {
            "cells": {
             "fill": {
              "color": "#EBF0F8"
             },
             "line": {
              "color": "white"
             }
            },
            "header": {
             "fill": {
              "color": "#C8D4E3"
             },
             "line": {
              "color": "white"
             }
            },
            "type": "table"
           }
          ]
         },
         "layout": {
          "annotationdefaults": {
           "arrowcolor": "#2a3f5f",
           "arrowhead": 0,
           "arrowwidth": 1
          },
          "autotypenumbers": "strict",
          "coloraxis": {
           "colorbar": {
            "outlinewidth": 0,
            "ticks": ""
           }
          },
          "colorscale": {
           "diverging": [
            [
             0,
             "#8e0152"
            ],
            [
             0.1,
             "#c51b7d"
            ],
            [
             0.2,
             "#de77ae"
            ],
            [
             0.3,
             "#f1b6da"
            ],
            [
             0.4,
             "#fde0ef"
            ],
            [
             0.5,
             "#f7f7f7"
            ],
            [
             0.6,
             "#e6f5d0"
            ],
            [
             0.7,
             "#b8e186"
            ],
            [
             0.8,
             "#7fbc41"
            ],
            [
             0.9,
             "#4d9221"
            ],
            [
             1,
             "#276419"
            ]
           ],
           "sequential": [
            [
             0,
             "#0d0887"
            ],
            [
             0.1111111111111111,
             "#46039f"
            ],
            [
             0.2222222222222222,
             "#7201a8"
            ],
            [
             0.3333333333333333,
             "#9c179e"
            ],
            [
             0.4444444444444444,
             "#bd3786"
            ],
            [
             0.5555555555555556,
             "#d8576b"
            ],
            [
             0.6666666666666666,
             "#ed7953"
            ],
            [
             0.7777777777777778,
             "#fb9f3a"
            ],
            [
             0.8888888888888888,
             "#fdca26"
            ],
            [
             1,
             "#f0f921"
            ]
           ],
           "sequentialminus": [
            [
             0,
             "#0d0887"
            ],
            [
             0.1111111111111111,
             "#46039f"
            ],
            [
             0.2222222222222222,
             "#7201a8"
            ],
            [
             0.3333333333333333,
             "#9c179e"
            ],
            [
             0.4444444444444444,
             "#bd3786"
            ],
            [
             0.5555555555555556,
             "#d8576b"
            ],
            [
             0.6666666666666666,
             "#ed7953"
            ],
            [
             0.7777777777777778,
             "#fb9f3a"
            ],
            [
             0.8888888888888888,
             "#fdca26"
            ],
            [
             1,
             "#f0f921"
            ]
           ]
          },
          "colorway": [
           "#636efa",
           "#EF553B",
           "#00cc96",
           "#ab63fa",
           "#FFA15A",
           "#19d3f3",
           "#FF6692",
           "#B6E880",
           "#FF97FF",
           "#FECB52"
          ],
          "font": {
           "color": "#2a3f5f"
          },
          "geo": {
           "bgcolor": "white",
           "lakecolor": "white",
           "landcolor": "#E5ECF6",
           "showlakes": true,
           "showland": true,
           "subunitcolor": "white"
          },
          "hoverlabel": {
           "align": "left"
          },
          "hovermode": "closest",
          "mapbox": {
           "style": "light"
          },
          "paper_bgcolor": "white",
          "plot_bgcolor": "#E5ECF6",
          "polar": {
           "angularaxis": {
            "gridcolor": "white",
            "linecolor": "white",
            "ticks": ""
           },
           "bgcolor": "#E5ECF6",
           "radialaxis": {
            "gridcolor": "white",
            "linecolor": "white",
            "ticks": ""
           }
          },
          "scene": {
           "xaxis": {
            "backgroundcolor": "#E5ECF6",
            "gridcolor": "white",
            "gridwidth": 2,
            "linecolor": "white",
            "showbackground": true,
            "ticks": "",
            "zerolinecolor": "white"
           },
           "yaxis": {
            "backgroundcolor": "#E5ECF6",
            "gridcolor": "white",
            "gridwidth": 2,
            "linecolor": "white",
            "showbackground": true,
            "ticks": "",
            "zerolinecolor": "white"
           },
           "zaxis": {
            "backgroundcolor": "#E5ECF6",
            "gridcolor": "white",
            "gridwidth": 2,
            "linecolor": "white",
            "showbackground": true,
            "ticks": "",
            "zerolinecolor": "white"
           }
          },
          "shapedefaults": {
           "line": {
            "color": "#2a3f5f"
           }
          },
          "ternary": {
           "aaxis": {
            "gridcolor": "white",
            "linecolor": "white",
            "ticks": ""
           },
           "baxis": {
            "gridcolor": "white",
            "linecolor": "white",
            "ticks": ""
           },
           "bgcolor": "#E5ECF6",
           "caxis": {
            "gridcolor": "white",
            "linecolor": "white",
            "ticks": ""
           }
          },
          "title": {
           "x": 0.05
          },
          "xaxis": {
           "automargin": true,
           "gridcolor": "white",
           "linecolor": "white",
           "ticks": "",
           "title": {
            "standoff": 15
           },
           "zerolinecolor": "white",
           "zerolinewidth": 2
          },
          "yaxis": {
           "automargin": true,
           "gridcolor": "white",
           "linecolor": "white",
           "ticks": "",
           "title": {
            "standoff": 15
           },
           "zerolinecolor": "white",
           "zerolinewidth": 2
          }
         }
        },
        "xaxis": {
         "anchor": "y",
         "domain": [
          0,
          1
         ],
         "title": {
          "text": "Quantity"
         }
        },
        "xaxis2": {
         "anchor": "y2",
         "domain": [
          0,
          1
         ],
         "matches": "x",
         "showgrid": true,
         "showticklabels": false
        },
        "yaxis": {
         "anchor": "x",
         "domain": [
          0,
          0.7326
         ],
         "title": {
          "text": "count"
         }
        },
        "yaxis2": {
         "anchor": "x2",
         "domain": [
          0.7426,
          1
         ],
         "matches": "y2",
         "showgrid": false,
         "showline": false,
         "showticklabels": false,
         "ticks": ""
        }
       }
      }
     },
     "metadata": {},
     "output_type": "display_data"
    }
   ],
   "source": [
    "import plotly.express as px\n",
    "\n",
    "fig = px.histogram(df, x='Quantity',\n",
    "                    color='Has_discount',\n",
    "                    marginal='box',\n",
    "                    hover_data=df.columns)\n",
    "fig.show()"
   ]
  },
  {
   "cell_type": "code",
   "execution_count": 26,
   "id": "b11c3d06",
   "metadata": {},
   "outputs": [
    {
     "name": "stdout",
     "output_type": "stream",
     "text": [
      "The distribution of data is not normal\n"
     ]
    }
   ],
   "source": [
    "_, pval = stats.shapiro(df['Quantity'])\n",
    "if pval < 0.05:\n",
    "    print('The distribution of data is not normal')\n",
    "else:\n",
    "    print('The distribution of data is normal')\n"
   ]
  },
  {
   "cell_type": "code",
   "execution_count": 32,
   "id": "db6f704a",
   "metadata": {},
   "outputs": [],
   "source": [
    "_, pval = stats.mannwhitneyu(with_discount, without_discount)"
   ]
  },
  {
   "cell_type": "code",
   "execution_count": 36,
   "id": "679916c8",
   "metadata": {},
   "outputs": [
    {
     "name": "stdout",
     "output_type": "stream",
     "text": [
      "Fail to reject null hypothesis\n"
     ]
    }
   ],
   "source": [
    "if pval < 0.05:\n",
    "    print('There is no significant difference between the two group. rejecting null hypothesis')\n",
    "else:\n",
    "    print('Fail to reject null hypothesis')"
   ]
  },
  {
   "cell_type": "code",
   "execution_count": null,
   "id": "bf311ad5",
   "metadata": {},
   "outputs": [],
   "source": []
  }
 ],
 "metadata": {
  "kernelspec": {
   "display_name": "Python 3",
   "language": "python",
   "name": "python3"
  },
  "language_info": {
   "codemirror_mode": {
    "name": "ipython",
    "version": 3
   },
   "file_extension": ".py",
   "mimetype": "text/x-python",
   "name": "python",
   "nbconvert_exporter": "python",
   "pygments_lexer": "ipython3",
   "version": "3.9.13"
  }
 },
 "nbformat": 4,
 "nbformat_minor": 5
}

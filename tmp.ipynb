{
 "cells": [
  {
   "cell_type": "code",
   "execution_count": 12,
   "id": "3c19ab26",
   "metadata": {},
   "outputs": [],
   "source": [
    "from geopy.geocoders import Nominatim\n",
    "import pandas as pd\n",
    "import numpy as np\n",
    "import time\n",
    "\n",
    "dataset = pd.DataFrame({\n",
    "    'City': ['Berlin', 'Dakar', 'Kananga'],\n",
    "    'State': ['Berlin', 'Dakar', 'Kasai-Occidental'],\n",
    "    'Country': ['Germany', 'Senegal', 'Democratic Republic of the Congo'],\n",
    "    'Lon': [np.nan, np.nan, np.nan],\n",
    "    'Lat': [np.nan, np.nan, np.nan]\n",
    "})\n",
    "\n",
    "\n",
    "def get_info(x):\n",
    "    time.sleep(1.2)\n",
    "    if pd.notnull(x['Lat']) and pd.notnull(x['Lon']):\n",
    "        return x['Lat'], x['Lon']\n",
    "    address = x['City'] + ', ' + x['State'] + ', ' + x['Country']\n",
    "    geolocator = geolocator = Nominatim(user_agent='PowerBIGeo')\n",
    "    location = geolocator.geocode(query=address)\n",
    "    if location:\n",
    "        return location.latitude, location.longitude\n",
    "    else:\n",
    "        address = x['City'] + ', ' + x['Country']\n",
    "        location = geolocator.geocode(query=address)\n",
    "        if location:\n",
    "            return location.latitude, location.longitude\n",
    "        return pd.NA, pd.NA\n",
    "    \n",
    "    \n",
    "dataset[['Lat', 'Lon']] = dataset.apply(get_info, axis=1, result_type='expand')"
   ]
  },
  {
   "cell_type": "code",
   "execution_count": 9,
   "id": "d1f885d7",
   "metadata": {},
   "outputs": [
    {
     "data": {
      "text/html": [
       "<div>\n",
       "<style scoped>\n",
       "    .dataframe tbody tr th:only-of-type {\n",
       "        vertical-align: middle;\n",
       "    }\n",
       "\n",
       "    .dataframe tbody tr th {\n",
       "        vertical-align: top;\n",
       "    }\n",
       "\n",
       "    .dataframe thead th {\n",
       "        text-align: right;\n",
       "    }\n",
       "</style>\n",
       "<table border=\"1\" class=\"dataframe\">\n",
       "  <thead>\n",
       "    <tr style=\"text-align: right;\">\n",
       "      <th></th>\n",
       "      <th>City</th>\n",
       "      <th>State</th>\n",
       "      <th>Country</th>\n",
       "      <th>Lon</th>\n",
       "      <th>Lat</th>\n",
       "    </tr>\n",
       "  </thead>\n",
       "  <tbody>\n",
       "    <tr>\n",
       "      <th>0</th>\n",
       "      <td>Berlin</td>\n",
       "      <td>Berlin</td>\n",
       "      <td>Germany</td>\n",
       "      <td>13.338652</td>\n",
       "      <td>52.503379</td>\n",
       "    </tr>\n",
       "    <tr>\n",
       "      <th>1</th>\n",
       "      <td>Dakar</td>\n",
       "      <td>Dakar</td>\n",
       "      <td>Senegal</td>\n",
       "      <td>-17.447938</td>\n",
       "      <td>14.693425</td>\n",
       "    </tr>\n",
       "    <tr>\n",
       "      <th>2</th>\n",
       "      <td>Kananga</td>\n",
       "      <td>Kasai-Occidental</td>\n",
       "      <td>Democratic Republic of the Congo</td>\n",
       "      <td>22.408589</td>\n",
       "      <td>-5.895173</td>\n",
       "    </tr>\n",
       "  </tbody>\n",
       "</table>\n",
       "</div>"
      ],
      "text/plain": [
       "      City             State                           Country        Lon  \\\n",
       "0   Berlin            Berlin                           Germany  13.338652   \n",
       "1    Dakar             Dakar                           Senegal -17.447938   \n",
       "2  Kananga  Kasai-Occidental  Democratic Republic of the Congo  22.408589   \n",
       "\n",
       "         Lat  \n",
       "0  52.503379  \n",
       "1  14.693425  \n",
       "2  -5.895173  "
      ]
     },
     "execution_count": 9,
     "metadata": {},
     "output_type": "execute_result"
    }
   ],
   "source": [
    "dataset"
   ]
  },
  {
   "cell_type": "code",
   "execution_count": null,
   "id": "878e9d7c",
   "metadata": {},
   "outputs": [],
   "source": []
  }
 ],
 "metadata": {
  "kernelspec": {
   "display_name": "Python 3",
   "language": "python",
   "name": "python3"
  },
  "language_info": {
   "codemirror_mode": {
    "name": "ipython",
    "version": 3
   },
   "file_extension": ".py",
   "mimetype": "text/x-python",
   "name": "python",
   "nbconvert_exporter": "python",
   "pygments_lexer": "ipython3",
   "version": "3.9.13"
  }
 },
 "nbformat": 4,
 "nbformat_minor": 5
}
